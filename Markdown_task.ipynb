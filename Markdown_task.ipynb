{
 "cells": [
  {
   "cell_type": "markdown",
   "id": "0357e8f8-232b-4fe9-a217-123f8fb83107",
   "metadata": {},
   "source": [
    "# Markdown Documentation"
   ]
  },
  {
   "cell_type": "markdown",
   "id": "31122188-adc3-474a-b67d-668c546ea2da",
   "metadata": {},
   "source": [
    "**Markdown**"
   ]
  },
  {
   "cell_type": "markdown",
   "id": "e42c2f50-da7d-4972-a3c3-bf73e738030d",
   "metadata": {},
   "source": [
    "_Documentation_"
   ]
  },
  {
   "cell_type": "markdown",
   "id": "ccd550fb-8f3d-4e61-a4f8-7a8e76777232",
   "metadata": {},
   "source": [
    "**_Markdown highlights_**"
   ]
  },
  {
   "cell_type": "markdown",
   "id": "cb69f1af-344d-47a1-9cb2-96e2fb796473",
   "metadata": {},
   "source": [
    "[Click here to open amazon](https://www.amazon.in/)"
   ]
  },
  {
   "cell_type": "markdown",
   "id": "d41df947-5971-45ab-b80d-4e7209fc61d3",
   "metadata": {},
   "source": [
    "> Amazon is a online shopping app"
   ]
  },
  {
   "cell_type": "markdown",
   "id": "0409dafb-ffd5-4928-8e15-dbaa3bbdf9a6",
   "metadata": {},
   "source": [
    "1. One\n",
    "1. Two\n",
    "1. three"
   ]
  },
  {
   "cell_type": "markdown",
   "id": "71834526-94fa-435a-93c6-d162d7b0603d",
   "metadata": {},
   "source": [
    "|Name      |Age      |Salary      |\n",
    "|:-:       |:-       |-:          |\n",
    "|Ajay      |27       |30000       |\n",
    "|Arun      |30       |35000       |\n",
    "|Sanjay    |33       |35000       |"
   ]
  },
  {
   "cell_type": "markdown",
   "id": "d806a134-a5c5-41b4-9496-3410abf70e0b",
   "metadata": {},
   "source": [
    "~~Formula of Maas-energy equivalence~~"
   ]
  },
  {
   "cell_type": "markdown",
   "id": "262c48f5-163e-41fe-a51b-a979de5ccfbd",
   "metadata": {},
   "source": [
    "$E = mc^2$"
   ]
  },
  {
   "cell_type": "markdown",
   "id": "fa17f89a-b376-4971-a187-2b7cc3873289",
   "metadata": {},
   "source": [
    "---\n",
    "***\n",
    "___"
   ]
  },
  {
   "cell_type": "markdown",
   "id": "bc40b7cd-50e6-40be-8ec7-3904b54f50a6",
   "metadata": {},
   "source": [
    "```\n",
    "print \"Hello World\"\n",
    "```"
   ]
  },
  {
   "cell_type": "markdown",
   "id": "1f3a2c29-ab4e-4eff-9229-dcdf4416d749",
   "metadata": {},
   "source": [
    "* One\n",
    "  - first\n",
    "    - last\n",
    "* Two\n",
    "* Three"
   ]
  },
  {
   "attachments": {
    "a723e6fb-ee6d-4877-899d-063afb833543.jpg": {
     "image/jpeg": "[encoded data removed]"
    }
   },
   "cell_type": "markdown",
   "id": "a2afa9b6-0183-40ba-9b3b-d55a84f4198d",
   "metadata": {},
   "source": [
    "Jupyter Image\n",
    "![download.jpg](attachment:a723e6fb-ee6d-4877-899d-063afb833543.jpg)"
   ]
  },
  {
   "cell_type": "markdown",
   "id": "6f16e7bb-ebf1-49fd-b781-8990e22e8681",
   "metadata": {},
   "source": [
    "##### texts\n",
    "> first text\n",
    ">> Second text \n",
    ">>> Third text "
   ]
  },
  {
   "cell_type": "markdown",
   "id": "4deab56e-8511-4f79-9b6b-d7391a582886",
   "metadata": {},
   "source": [
    "**_Mathematical Expression_**"
   ]
  },
  {
   "cell_type": "markdown",
   "id": "b738b4ec-af8b-4cda-9957-3be5586b7f66",
   "metadata": {},
   "source": [
    " `End Of Document`"
   ]
  },
  {
   "cell_type": "markdown",
   "id": "482cfab3-1d08-43aa-8f7a-e307f8a7663a",
   "metadata": {},
   "source": [
    "&hearts; Thank-you &hearts;"
   ]
  }
 ],
 "metadata": {
  "kernelspec": {
   "display_name": "Python 3 (ipykernel)",
   "language": "python",
   "name": "python3"
  },
  "language_info": {
   "codemirror_mode": {
    "name": "ipython",
    "version": 3
   },
   "file_extension": ".py",
   "mimetype": "text/x-python",
   "name": "python",
   "nbconvert_exporter": "python",
   "pygments_lexer": "ipython3",
   "version": "3.12.4"
  }
 },
 "nbformat": 4,
 "nbformat_minor": 5
}
